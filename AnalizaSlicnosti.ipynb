{
 "cells": [
  {
   "cell_type": "markdown",
   "metadata": {},
   "source": [
    "Ucitaj fileove imena **A.txt** i **B.txt**:"
   ]
  },
  {
   "cell_type": "code",
   "execution_count": 1,
   "metadata": {},
   "outputs": [
    {
     "name": "stdout",
     "output_type": "stream",
     "text": [
      "['The EU and European citizenship were established when the Maastricht Treaty was enacted in 1993', '[19] The EU traces its origins to the European Coal and Steel Community (ECSC) and the European Economic Community (EEC), established, respectively, by the 1951 Treaty of Paris and 1957 Treaty of Rome', ' The original members of what came to be known as the European Communities were the Inner Six: Belgium, France, Italy, Luxembourg, the Netherlands, and West Germany', ' The Communities and its successors have grown in size by the accession of new member states and in power by the addition of policy areas to its remit', '\\n\\n\\n\\n\\ntest1', '\\n\\ntest2\\n\\ntest3', '', '\\n\\n\\n'] \n",
      " 8 \n",
      "\n",
      "\n",
      " ['The EU and European citizenship were established when the Maastricht Treaty was enacted in 1993', '[19] The EU traces its origins to the European Coal and Steel Community (ECSC) and the European Economic Community (EEC), established, respectively, by the 1951 Treaty of Paris and 1957 Treaty of Rome', ' A political union is a type of state which is composed of or created out of smaller states', ' The successors have grown in Communities and its  size by the accession of new member states and in power by the addition of policy areas to its remit', ' The latest major amendment to the constitutional basis of the EU, the Lisbon Treaty valid form 2009', ' While no member state has left the EU or its predecessors, the United Kingdom signified an intention to leave after a membership referendum in June 2016 and is negotiating its withdrawal', ' \\n'] \n",
      " 7\n"
     ]
    }
   ],
   "source": [
    "def otvoriPaListaRecenica(imeFilea): \n",
    "    otvoreniFile=open(imeFilea,\"r\")\n",
    "    sadrzajFilea=otvoreniFile.read()\n",
    "    assert isinstance(sadrzajFilea, str)\n",
    "    sadrzajFilea=sadrzajFilea.split(\".\")\n",
    "    return sadrzajFilea\n",
    "\n",
    "A=otvoriPaListaRecenica(\"A.txt\")\n",
    "B=otvoriPaListaRecenica(\"B.txt\")\n",
    "print(A, \"\\n\", len(A), \"\\n\"*3, B, \"\\n\", len(B))"
   ]
  },
  {
   "cell_type": "code",
   "execution_count": null,
   "metadata": {
    "collapsed": true
   },
   "outputs": [],
   "source": [
    "print(len(A))\n",
    "print(len(B))"
   ]
  },
  {
   "cell_type": "markdown",
   "metadata": {},
   "source": [
    "Kreiramo matricu slicnosti (listu listi trojki) takvu da: Prva lista u master listi je usporedba slicnosti prve recenice od A s prvom, drugom, trecom, itd. recenicom B. Druga lista u mater listi je slicnost druge recenice u A s prvom drugom, trecom, itd. recenicom iz B, itd."
   ]
  },
  {
   "cell_type": "code",
   "execution_count": 2,
   "metadata": {
    "collapsed": true
   },
   "outputs": [],
   "source": [
    "from fuzzywuzzy import fuzz"
   ]
  },
  {
   "cell_type": "markdown",
   "metadata": {},
   "source": [
    "Ako gornja celija javlja error, to znaci da nemate instaliran fuzzywuzzy paket. Da biste to rijesili, otvorite command prompt i utipkajte **pip install fuzzywuzzy**, pricekajte da se instalira, i zatim pokrenite ponovno gornju celiju. "
   ]
  },
  {
   "cell_type": "code",
   "execution_count": 14,
   "metadata": {
    "collapsed": true
   },
   "outputs": [],
   "source": [
    "def slicnost(str1, str2):\n",
    "    return len(str1)+len(str2)"
   ]
  },
  {
   "cell_type": "code",
   "execution_count": 15,
   "metadata": {},
   "outputs": [
    {
     "name": "stdout",
     "output_type": "stream",
     "text": [
      "[[(190, 1, 1, 'The EU and European citizenshi...', 'The EU and European citizenshi...'), (295, 1, 2, 'The EU and European citizenshi...', '[19] The EU traces its origins...'), (186, 1, 3, 'The EU and European citizenshi...', ' A political union is a type o...'), (246, 1, 4, 'The EU and European citizenshi...', ' The successors have grown in ...'), (195, 1, 5, 'The EU and European citizenshi...', ' The latest major amendment to...'), (282, 1, 6, 'The EU and European citizenshi...', ' While no member state has lef...'), (97, 1, 7, 'The EU and European citizenshi...', ' \\n...')], [(295, 2, 1, '[19] The EU traces its origins...', 'The EU and European citizenshi...'), (400, 2, 2, '[19] The EU traces its origins...', '[19] The EU traces its origins...'), (291, 2, 3, '[19] The EU traces its origins...', ' A political union is a type o...'), (351, 2, 4, '[19] The EU traces its origins...', ' The successors have grown in ...'), (300, 2, 5, '[19] The EU traces its origins...', ' The latest major amendment to...'), (387, 2, 6, '[19] The EU traces its origins...', ' While no member state has lef...'), (202, 2, 7, '[19] The EU traces its origins...', ' \\n...')], [(259, 3, 1, ' The original members of what ...', 'The EU and European citizenshi...'), (364, 3, 2, ' The original members of what ...', '[19] The EU traces its origins...'), (255, 3, 3, ' The original members of what ...', ' A political union is a type o...'), (315, 3, 4, ' The original members of what ...', ' The successors have grown in ...'), (264, 3, 5, ' The original members of what ...', ' The latest major amendment to...'), (351, 3, 6, ' The original members of what ...', ' While no member state has lef...'), (166, 3, 7, ' The original members of what ...', ' \\n...')], [(245, 4, 1, ' The Communities and its succe...', 'The EU and European citizenshi...'), (350, 4, 2, ' The Communities and its succe...', '[19] The EU traces its origins...'), (241, 4, 3, ' The Communities and its succe...', ' A political union is a type o...'), (301, 4, 4, ' The Communities and its succe...', ' The successors have grown in ...'), (250, 4, 5, ' The Communities and its succe...', ' The latest major amendment to...'), (337, 4, 6, ' The Communities and its succe...', ' While no member state has lef...'), (152, 4, 7, ' The Communities and its succe...', ' \\n...')], [(105, 5, 1, '\\n\\n\\n\\n\\ntest1...', 'The EU and European citizenshi...'), (210, 5, 2, '\\n\\n\\n\\n\\ntest1...', '[19] The EU traces its origins...'), (101, 5, 3, '\\n\\n\\n\\n\\ntest1...', ' A political union is a type o...'), (161, 5, 4, '\\n\\n\\n\\n\\ntest1...', ' The successors have grown in ...'), (110, 5, 5, '\\n\\n\\n\\n\\ntest1...', ' The latest major amendment to...'), (197, 5, 6, '\\n\\n\\n\\n\\ntest1...', ' While no member state has lef...'), (12, 5, 7, '\\n\\n\\n\\n\\ntest1...', ' \\n...')], [(109, 6, 1, '\\n\\ntest2\\n\\ntest3...', 'The EU and European citizenshi...'), (214, 6, 2, '\\n\\ntest2\\n\\ntest3...', '[19] The EU traces its origins...'), (105, 6, 3, '\\n\\ntest2\\n\\ntest3...', ' A political union is a type o...'), (165, 6, 4, '\\n\\ntest2\\n\\ntest3...', ' The successors have grown in ...'), (114, 6, 5, '\\n\\ntest2\\n\\ntest3...', ' The latest major amendment to...'), (201, 6, 6, '\\n\\ntest2\\n\\ntest3...', ' While no member state has lef...'), (16, 6, 7, '\\n\\ntest2\\n\\ntest3...', ' \\n...')], [(95, 7, 1, '...', 'The EU and European citizenshi...'), (200, 7, 2, '...', '[19] The EU traces its origins...'), (91, 7, 3, '...', ' A political union is a type o...'), (151, 7, 4, '...', ' The successors have grown in ...'), (100, 7, 5, '...', ' The latest major amendment to...'), (187, 7, 6, '...', ' While no member state has lef...'), (2, 7, 7, '...', ' \\n...')], [(98, 8, 1, '\\n\\n\\n...', 'The EU and European citizenshi...'), (203, 8, 2, '\\n\\n\\n...', '[19] The EU traces its origins...'), (94, 8, 3, '\\n\\n\\n...', ' A political union is a type o...'), (154, 8, 4, '\\n\\n\\n...', ' The successors have grown in ...'), (103, 8, 5, '\\n\\n\\n...', ' The latest major amendment to...'), (190, 8, 6, '\\n\\n\\n...', ' While no member state has lef...'), (5, 8, 7, '\\n\\n\\n...', ' \\n...')]]\n",
      "--- 0 seconds ---\n"
     ]
    }
   ],
   "source": [
    "import time\n",
    "start_time = time.time()\n",
    "resultingMatrix=[]\n",
    "ci=1\n",
    "for i in A:\n",
    "    malaLista=[]\n",
    "    cj=1\n",
    "    for j in B:\n",
    "        malaLista.append((slicnost(i,j), ci, cj, i[:30]+\"...\", j[:30]+\"...\"))\n",
    "        cj=cj+1\n",
    "    ci=ci+1\n",
    "    resultingMatrix.append(malaLista)\n",
    "print(resultingMatrix)\n",
    "print(\"--- %s seconds ---\" % round((time.time() - start_time)/60.0))"
   ]
  },
  {
   "cell_type": "code",
   "execution_count": 5,
   "metadata": {
    "collapsed": true
   },
   "outputs": [],
   "source": [
    "def KreirajListuIznadPraga(izvornaLista, prag=0.5):\n",
    "    novaLista=[]\n",
    "    for i in izvornaLista:\n",
    "        novaMiniLista=[]\n",
    "        for j in i:\n",
    "            if j[0]>prag:\n",
    "                novaMiniLista.append(j)\n",
    "        if novaMiniLista!=[]:\n",
    "            novaLista.append(novaMiniLista)\n",
    "    return novaLista"
   ]
  },
  {
   "cell_type": "code",
   "execution_count": 11,
   "metadata": {},
   "outputs": [
    {
     "name": "stdout",
     "output_type": "stream",
     "text": [
      "[[(1.0, 1, 1), (0.59, 1, 2)], [(0.59, 2, 1), (1.0, 2, 2)], [(0.52, 3, 2), (0.53, 3, 4)], [(1.0, 4, 4), (0.51, 4, 6)]]\n"
     ]
    }
   ],
   "source": [
    "lista=KreirajListuIznadPraga(resultingMatrix, 0.5)\n",
    "print(lista)"
   ]
  },
  {
   "cell_type": "code",
   "execution_count": null,
   "metadata": {
    "collapsed": true
   },
   "outputs": [],
   "source": [
    "(3939-1883)/1883"
   ]
  },
  {
   "cell_type": "code",
   "execution_count": null,
   "metadata": {
    "collapsed": true
   },
   "outputs": [],
   "source": [
    "round(3.3444,2)"
   ]
  },
  {
   "cell_type": "code",
   "execution_count": null,
   "metadata": {
    "collapsed": true
   },
   "outputs": [],
   "source": []
  }
 ],
 "metadata": {
  "kernelspec": {
   "display_name": "Python 3",
   "language": "python",
   "name": "python3"
  },
  "language_info": {
   "codemirror_mode": {
    "name": "ipython",
    "version": 3
   },
   "file_extension": ".py",
   "mimetype": "text/x-python",
   "name": "python",
   "nbconvert_exporter": "python",
   "pygments_lexer": "ipython3",
   "version": "3.6.3"
  }
 },
 "nbformat": 4,
 "nbformat_minor": 2
}
